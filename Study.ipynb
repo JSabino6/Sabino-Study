{
  "nbformat": 4,
  "nbformat_minor": 0,
  "metadata": {
    "colab": {
      "provenance": [],
      "authorship_tag": "ABX9TyPWsDhAXsddEJnZZbPpW89U"
    },
    "kernelspec": {
      "name": "python3",
      "display_name": "Python 3"
    },
    "language_info": {
      "name": "python"
    }
  },
  "cells": [
    {
      "cell_type": "code",
      "source": [
        "\n",
        "nome = input(\"Digite o nome do aluno: \")\n",
        "nota1 = float(input(\"Digite a primeira nota: \"))\n",
        "nota2 = float(input(\"Digite a segunda nota: \"))\n",
        "nota3 = float(input(\"Digite a terceira nota: \"))\n",
        "media = (nota1 + nota2 + nota3) / 3\n",
        "if media >= 7:\n",
        "  print(f\"O aluno {nome} passou de ano com a média {media:.2f}\")\n",
        "else:\n",
        "  print(f\"O aluno {nome} não passou de ano com a média {media:.2f}\")\n"
      ],
      "metadata": {
        "id": "KdbA1K0PSIeM"
      },
      "execution_count": null,
      "outputs": []
    }
  ]
}