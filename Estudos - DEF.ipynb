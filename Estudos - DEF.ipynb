{
 "cells": [
  {
   "cell_type": "code",
   "execution_count": null,
   "metadata": {},
   "outputs": [],
   "source": [
    "# N - media(N) / N total (Espero que eu do futuro lembre de onde tirei essa equação pq se naokkk)\n",
    "lista = [1, 2, 5, 6, 7, 10, 11, 15, 28, 19, 24, 55, 100, 101]\n",
    "nova_lista = []\n",
    "media = sum(lista)/len(lista)\n",
    "\n",
    "for item in lista:\n",
    "    nova_lista.append(item-media/(len(lista)))\n",
    "\n",
    "print(nova_lista)"
   ]
  },
  {
   "cell_type": "code",
   "execution_count": null,
   "metadata": {},
   "outputs": [],
   "source": [
    "#Função dupla\n",
    "def dobro(n):\n",
    "    k = n * 2\n",
    "    return k\n",
    "q = int(input('Informe um valor '))\n",
    "j = dobro(q)\n",
    "print(f'O dobro do valor {q} é {j}')"
   ]
  },
  {
   "cell_type": "code",
   "execution_count": null,
   "metadata": {},
   "outputs": [],
   "source": [
    "#Circuferencia fiote\n",
    "def calc(R):\n",
    "    C = 2*3.14*R\n",
    "    return C\n",
    "\n",
    "Z = int(input('Mim dá um valor '))\n",
    "V = calc(Z)\n",
    "print(f'O valor é {V}')"
   ]
  }
 ],
 "metadata": {
  "kernelspec": {
   "display_name": "Python 3",
   "language": "python",
   "name": "python3"
  },
  "language_info": {
   "codemirror_mode": {
    "name": "ipython",
    "version": 3
   },
   "file_extension": ".py",
   "mimetype": "text/x-python",
   "name": "python",
   "nbconvert_exporter": "python",
   "pygments_lexer": "ipython3",
   "version": "3.12.1"
  }
 },
 "nbformat": 4,
 "nbformat_minor": 2
}
